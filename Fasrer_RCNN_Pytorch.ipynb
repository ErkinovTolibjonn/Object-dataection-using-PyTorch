{
  "nbformat": 4,
  "nbformat_minor": 0,
  "metadata": {
    "colab": {
      "provenance": []
    },
    "kernelspec": {
      "name": "python3",
      "display_name": "Python 3"
    },
    "language_info": {
      "name": "python"
    },
    "gpuClass": "standard",
    "widgets": {
      "application/vnd.jupyter.widget-state+json": {
        "94f16770d0a54a38a95853bd34134cc0": {
          "model_module": "@jupyter-widgets/controls",
          "model_name": "HBoxModel",
          "model_module_version": "1.5.0",
          "state": {
            "_dom_classes": [],
            "_model_module": "@jupyter-widgets/controls",
            "_model_module_version": "1.5.0",
            "_model_name": "HBoxModel",
            "_view_count": null,
            "_view_module": "@jupyter-widgets/controls",
            "_view_module_version": "1.5.0",
            "_view_name": "HBoxView",
            "box_style": "",
            "children": [
              "IPY_MODEL_eee5fb158afb425097fada3cc0ec9c1d",
              "IPY_MODEL_422b3732d89449d6beb210d515575c37",
              "IPY_MODEL_58d5495b23734edea25a96ae1663d0dc"
            ],
            "layout": "IPY_MODEL_300c3df95da840609200cb98099fc4f9"
          }
        },
        "eee5fb158afb425097fada3cc0ec9c1d": {
          "model_module": "@jupyter-widgets/controls",
          "model_name": "HTMLModel",
          "model_module_version": "1.5.0",
          "state": {
            "_dom_classes": [],
            "_model_module": "@jupyter-widgets/controls",
            "_model_module_version": "1.5.0",
            "_model_name": "HTMLModel",
            "_view_count": null,
            "_view_module": "@jupyter-widgets/controls",
            "_view_module_version": "1.5.0",
            "_view_name": "HTMLView",
            "description": "",
            "description_tooltip": null,
            "layout": "IPY_MODEL_6548157ee9ee41cba4be1e83922e5765",
            "placeholder": "​",
            "style": "IPY_MODEL_59735d910dd041c3adbe3395c3652b64",
            "value": "100%"
          }
        },
        "422b3732d89449d6beb210d515575c37": {
          "model_module": "@jupyter-widgets/controls",
          "model_name": "FloatProgressModel",
          "model_module_version": "1.5.0",
          "state": {
            "_dom_classes": [],
            "_model_module": "@jupyter-widgets/controls",
            "_model_module_version": "1.5.0",
            "_model_name": "FloatProgressModel",
            "_view_count": null,
            "_view_module": "@jupyter-widgets/controls",
            "_view_module_version": "1.5.0",
            "_view_name": "ProgressView",
            "bar_style": "success",
            "description": "",
            "description_tooltip": null,
            "layout": "IPY_MODEL_05838418728245e185c2557baec7781f",
            "max": 167502836,
            "min": 0,
            "orientation": "horizontal",
            "style": "IPY_MODEL_734098e3979c4c5f9f79ce0561f3e441",
            "value": 167502836
          }
        },
        "58d5495b23734edea25a96ae1663d0dc": {
          "model_module": "@jupyter-widgets/controls",
          "model_name": "HTMLModel",
          "model_module_version": "1.5.0",
          "state": {
            "_dom_classes": [],
            "_model_module": "@jupyter-widgets/controls",
            "_model_module_version": "1.5.0",
            "_model_name": "HTMLModel",
            "_view_count": null,
            "_view_module": "@jupyter-widgets/controls",
            "_view_module_version": "1.5.0",
            "_view_name": "HTMLView",
            "description": "",
            "description_tooltip": null,
            "layout": "IPY_MODEL_9048cbd26e284f4a8df89fd6333cc00d",
            "placeholder": "​",
            "style": "IPY_MODEL_2e92abd388844d6492e2f1ef9d2a7518",
            "value": " 160M/160M [00:00&lt;00:00, 218MB/s]"
          }
        },
        "300c3df95da840609200cb98099fc4f9": {
          "model_module": "@jupyter-widgets/base",
          "model_name": "LayoutModel",
          "model_module_version": "1.2.0",
          "state": {
            "_model_module": "@jupyter-widgets/base",
            "_model_module_version": "1.2.0",
            "_model_name": "LayoutModel",
            "_view_count": null,
            "_view_module": "@jupyter-widgets/base",
            "_view_module_version": "1.2.0",
            "_view_name": "LayoutView",
            "align_content": null,
            "align_items": null,
            "align_self": null,
            "border": null,
            "bottom": null,
            "display": null,
            "flex": null,
            "flex_flow": null,
            "grid_area": null,
            "grid_auto_columns": null,
            "grid_auto_flow": null,
            "grid_auto_rows": null,
            "grid_column": null,
            "grid_gap": null,
            "grid_row": null,
            "grid_template_areas": null,
            "grid_template_columns": null,
            "grid_template_rows": null,
            "height": null,
            "justify_content": null,
            "justify_items": null,
            "left": null,
            "margin": null,
            "max_height": null,
            "max_width": null,
            "min_height": null,
            "min_width": null,
            "object_fit": null,
            "object_position": null,
            "order": null,
            "overflow": null,
            "overflow_x": null,
            "overflow_y": null,
            "padding": null,
            "right": null,
            "top": null,
            "visibility": null,
            "width": null
          }
        },
        "6548157ee9ee41cba4be1e83922e5765": {
          "model_module": "@jupyter-widgets/base",
          "model_name": "LayoutModel",
          "model_module_version": "1.2.0",
          "state": {
            "_model_module": "@jupyter-widgets/base",
            "_model_module_version": "1.2.0",
            "_model_name": "LayoutModel",
            "_view_count": null,
            "_view_module": "@jupyter-widgets/base",
            "_view_module_version": "1.2.0",
            "_view_name": "LayoutView",
            "align_content": null,
            "align_items": null,
            "align_self": null,
            "border": null,
            "bottom": null,
            "display": null,
            "flex": null,
            "flex_flow": null,
            "grid_area": null,
            "grid_auto_columns": null,
            "grid_auto_flow": null,
            "grid_auto_rows": null,
            "grid_column": null,
            "grid_gap": null,
            "grid_row": null,
            "grid_template_areas": null,
            "grid_template_columns": null,
            "grid_template_rows": null,
            "height": null,
            "justify_content": null,
            "justify_items": null,
            "left": null,
            "margin": null,
            "max_height": null,
            "max_width": null,
            "min_height": null,
            "min_width": null,
            "object_fit": null,
            "object_position": null,
            "order": null,
            "overflow": null,
            "overflow_x": null,
            "overflow_y": null,
            "padding": null,
            "right": null,
            "top": null,
            "visibility": null,
            "width": null
          }
        },
        "59735d910dd041c3adbe3395c3652b64": {
          "model_module": "@jupyter-widgets/controls",
          "model_name": "DescriptionStyleModel",
          "model_module_version": "1.5.0",
          "state": {
            "_model_module": "@jupyter-widgets/controls",
            "_model_module_version": "1.5.0",
            "_model_name": "DescriptionStyleModel",
            "_view_count": null,
            "_view_module": "@jupyter-widgets/base",
            "_view_module_version": "1.2.0",
            "_view_name": "StyleView",
            "description_width": ""
          }
        },
        "05838418728245e185c2557baec7781f": {
          "model_module": "@jupyter-widgets/base",
          "model_name": "LayoutModel",
          "model_module_version": "1.2.0",
          "state": {
            "_model_module": "@jupyter-widgets/base",
            "_model_module_version": "1.2.0",
            "_model_name": "LayoutModel",
            "_view_count": null,
            "_view_module": "@jupyter-widgets/base",
            "_view_module_version": "1.2.0",
            "_view_name": "LayoutView",
            "align_content": null,
            "align_items": null,
            "align_self": null,
            "border": null,
            "bottom": null,
            "display": null,
            "flex": null,
            "flex_flow": null,
            "grid_area": null,
            "grid_auto_columns": null,
            "grid_auto_flow": null,
            "grid_auto_rows": null,
            "grid_column": null,
            "grid_gap": null,
            "grid_row": null,
            "grid_template_areas": null,
            "grid_template_columns": null,
            "grid_template_rows": null,
            "height": null,
            "justify_content": null,
            "justify_items": null,
            "left": null,
            "margin": null,
            "max_height": null,
            "max_width": null,
            "min_height": null,
            "min_width": null,
            "object_fit": null,
            "object_position": null,
            "order": null,
            "overflow": null,
            "overflow_x": null,
            "overflow_y": null,
            "padding": null,
            "right": null,
            "top": null,
            "visibility": null,
            "width": null
          }
        },
        "734098e3979c4c5f9f79ce0561f3e441": {
          "model_module": "@jupyter-widgets/controls",
          "model_name": "ProgressStyleModel",
          "model_module_version": "1.5.0",
          "state": {
            "_model_module": "@jupyter-widgets/controls",
            "_model_module_version": "1.5.0",
            "_model_name": "ProgressStyleModel",
            "_view_count": null,
            "_view_module": "@jupyter-widgets/base",
            "_view_module_version": "1.2.0",
            "_view_name": "StyleView",
            "bar_color": null,
            "description_width": ""
          }
        },
        "9048cbd26e284f4a8df89fd6333cc00d": {
          "model_module": "@jupyter-widgets/base",
          "model_name": "LayoutModel",
          "model_module_version": "1.2.0",
          "state": {
            "_model_module": "@jupyter-widgets/base",
            "_model_module_version": "1.2.0",
            "_model_name": "LayoutModel",
            "_view_count": null,
            "_view_module": "@jupyter-widgets/base",
            "_view_module_version": "1.2.0",
            "_view_name": "LayoutView",
            "align_content": null,
            "align_items": null,
            "align_self": null,
            "border": null,
            "bottom": null,
            "display": null,
            "flex": null,
            "flex_flow": null,
            "grid_area": null,
            "grid_auto_columns": null,
            "grid_auto_flow": null,
            "grid_auto_rows": null,
            "grid_column": null,
            "grid_gap": null,
            "grid_row": null,
            "grid_template_areas": null,
            "grid_template_columns": null,
            "grid_template_rows": null,
            "height": null,
            "justify_content": null,
            "justify_items": null,
            "left": null,
            "margin": null,
            "max_height": null,
            "max_width": null,
            "min_height": null,
            "min_width": null,
            "object_fit": null,
            "object_position": null,
            "order": null,
            "overflow": null,
            "overflow_x": null,
            "overflow_y": null,
            "padding": null,
            "right": null,
            "top": null,
            "visibility": null,
            "width": null
          }
        },
        "2e92abd388844d6492e2f1ef9d2a7518": {
          "model_module": "@jupyter-widgets/controls",
          "model_name": "DescriptionStyleModel",
          "model_module_version": "1.5.0",
          "state": {
            "_model_module": "@jupyter-widgets/controls",
            "_model_module_version": "1.5.0",
            "_model_name": "DescriptionStyleModel",
            "_view_count": null,
            "_view_module": "@jupyter-widgets/base",
            "_view_module_version": "1.2.0",
            "_view_name": "StyleView",
            "description_width": ""
          }
        }
      }
    }
  },
  "cells": [
    {
      "cell_type": "code",
      "execution_count": 1,
      "metadata": {
        "id": "EhpmGSwHWhIO"
      },
      "outputs": [],
      "source": [
        "import torch \n",
        "import torchvision\n",
        "from torchvision import transforms as T\n",
        "from PIL import Image\n",
        "import cv2\n",
        "from google.colab.patches import cv2_imshow"
      ]
    },
    {
      "cell_type": "code",
      "source": [
        "import warnings\n",
        "warnings.filterwarnings('ignore')"
      ],
      "metadata": {
        "id": "Urg5JirYdt7R"
      },
      "execution_count": 2,
      "outputs": []
    },
    {
      "cell_type": "code",
      "source": [
        "# model = torchvision.models.detection.ssd300_vgg16(pretrained = True)"
      ],
      "metadata": {
        "id": "qGnW60Wd4qXJ"
      },
      "execution_count": 15,
      "outputs": []
    },
    {
      "cell_type": "code",
      "source": [
        "model = torchvision.models.detection.fasterrcnn_resnet50_fpn(pretrained = True)"
      ],
      "metadata": {
        "colab": {
          "base_uri": "https://localhost:8080/",
          "height": 86,
          "referenced_widgets": [
            "94f16770d0a54a38a95853bd34134cc0",
            "eee5fb158afb425097fada3cc0ec9c1d",
            "422b3732d89449d6beb210d515575c37",
            "58d5495b23734edea25a96ae1663d0dc",
            "300c3df95da840609200cb98099fc4f9",
            "6548157ee9ee41cba4be1e83922e5765",
            "59735d910dd041c3adbe3395c3652b64",
            "05838418728245e185c2557baec7781f",
            "734098e3979c4c5f9f79ce0561f3e441",
            "9048cbd26e284f4a8df89fd6333cc00d",
            "2e92abd388844d6492e2f1ef9d2a7518"
          ]
        },
        "id": "Yw0kalDYXCcQ",
        "outputId": "8f415220-f468-46e7-da6b-4f3005d62213"
      },
      "execution_count": 73,
      "outputs": [
        {
          "output_type": "stream",
          "name": "stderr",
          "text": [
            "Downloading: \"https://download.pytorch.org/models/fasterrcnn_resnet50_fpn_coco-258fb6c6.pth\" to /root/.cache/torch/hub/checkpoints/fasterrcnn_resnet50_fpn_coco-258fb6c6.pth\n"
          ]
        },
        {
          "output_type": "display_data",
          "data": {
            "text/plain": [
              "  0%|          | 0.00/160M [00:00<?, ?B/s]"
            ],
            "application/vnd.jupyter.widget-view+json": {
              "version_major": 2,
              "version_minor": 0,
              "model_id": "94f16770d0a54a38a95853bd34134cc0"
            }
          },
          "metadata": {}
        }
      ]
    },
    {
      "cell_type": "code",
      "source": [
        "model.eval()"
      ],
      "metadata": {
        "colab": {
          "base_uri": "https://localhost:8080/"
        },
        "id": "8YCOWiwYbrRV",
        "outputId": "12d485fe-ba44-4da8-ad70-e467bdfe7b89"
      },
      "execution_count": 74,
      "outputs": [
        {
          "output_type": "execute_result",
          "data": {
            "text/plain": [
              "FasterRCNN(\n",
              "  (transform): GeneralizedRCNNTransform(\n",
              "      Normalize(mean=[0.485, 0.456, 0.406], std=[0.229, 0.224, 0.225])\n",
              "      Resize(min_size=(800,), max_size=1333, mode='bilinear')\n",
              "  )\n",
              "  (backbone): BackboneWithFPN(\n",
              "    (body): IntermediateLayerGetter(\n",
              "      (conv1): Conv2d(3, 64, kernel_size=(7, 7), stride=(2, 2), padding=(3, 3), bias=False)\n",
              "      (bn1): FrozenBatchNorm2d(64, eps=0.0)\n",
              "      (relu): ReLU(inplace=True)\n",
              "      (maxpool): MaxPool2d(kernel_size=3, stride=2, padding=1, dilation=1, ceil_mode=False)\n",
              "      (layer1): Sequential(\n",
              "        (0): Bottleneck(\n",
              "          (conv1): Conv2d(64, 64, kernel_size=(1, 1), stride=(1, 1), bias=False)\n",
              "          (bn1): FrozenBatchNorm2d(64, eps=0.0)\n",
              "          (conv2): Conv2d(64, 64, kernel_size=(3, 3), stride=(1, 1), padding=(1, 1), bias=False)\n",
              "          (bn2): FrozenBatchNorm2d(64, eps=0.0)\n",
              "          (conv3): Conv2d(64, 256, kernel_size=(1, 1), stride=(1, 1), bias=False)\n",
              "          (bn3): FrozenBatchNorm2d(256, eps=0.0)\n",
              "          (relu): ReLU(inplace=True)\n",
              "          (downsample): Sequential(\n",
              "            (0): Conv2d(64, 256, kernel_size=(1, 1), stride=(1, 1), bias=False)\n",
              "            (1): FrozenBatchNorm2d(256, eps=0.0)\n",
              "          )\n",
              "        )\n",
              "        (1): Bottleneck(\n",
              "          (conv1): Conv2d(256, 64, kernel_size=(1, 1), stride=(1, 1), bias=False)\n",
              "          (bn1): FrozenBatchNorm2d(64, eps=0.0)\n",
              "          (conv2): Conv2d(64, 64, kernel_size=(3, 3), stride=(1, 1), padding=(1, 1), bias=False)\n",
              "          (bn2): FrozenBatchNorm2d(64, eps=0.0)\n",
              "          (conv3): Conv2d(64, 256, kernel_size=(1, 1), stride=(1, 1), bias=False)\n",
              "          (bn3): FrozenBatchNorm2d(256, eps=0.0)\n",
              "          (relu): ReLU(inplace=True)\n",
              "        )\n",
              "        (2): Bottleneck(\n",
              "          (conv1): Conv2d(256, 64, kernel_size=(1, 1), stride=(1, 1), bias=False)\n",
              "          (bn1): FrozenBatchNorm2d(64, eps=0.0)\n",
              "          (conv2): Conv2d(64, 64, kernel_size=(3, 3), stride=(1, 1), padding=(1, 1), bias=False)\n",
              "          (bn2): FrozenBatchNorm2d(64, eps=0.0)\n",
              "          (conv3): Conv2d(64, 256, kernel_size=(1, 1), stride=(1, 1), bias=False)\n",
              "          (bn3): FrozenBatchNorm2d(256, eps=0.0)\n",
              "          (relu): ReLU(inplace=True)\n",
              "        )\n",
              "      )\n",
              "      (layer2): Sequential(\n",
              "        (0): Bottleneck(\n",
              "          (conv1): Conv2d(256, 128, kernel_size=(1, 1), stride=(1, 1), bias=False)\n",
              "          (bn1): FrozenBatchNorm2d(128, eps=0.0)\n",
              "          (conv2): Conv2d(128, 128, kernel_size=(3, 3), stride=(2, 2), padding=(1, 1), bias=False)\n",
              "          (bn2): FrozenBatchNorm2d(128, eps=0.0)\n",
              "          (conv3): Conv2d(128, 512, kernel_size=(1, 1), stride=(1, 1), bias=False)\n",
              "          (bn3): FrozenBatchNorm2d(512, eps=0.0)\n",
              "          (relu): ReLU(inplace=True)\n",
              "          (downsample): Sequential(\n",
              "            (0): Conv2d(256, 512, kernel_size=(1, 1), stride=(2, 2), bias=False)\n",
              "            (1): FrozenBatchNorm2d(512, eps=0.0)\n",
              "          )\n",
              "        )\n",
              "        (1): Bottleneck(\n",
              "          (conv1): Conv2d(512, 128, kernel_size=(1, 1), stride=(1, 1), bias=False)\n",
              "          (bn1): FrozenBatchNorm2d(128, eps=0.0)\n",
              "          (conv2): Conv2d(128, 128, kernel_size=(3, 3), stride=(1, 1), padding=(1, 1), bias=False)\n",
              "          (bn2): FrozenBatchNorm2d(128, eps=0.0)\n",
              "          (conv3): Conv2d(128, 512, kernel_size=(1, 1), stride=(1, 1), bias=False)\n",
              "          (bn3): FrozenBatchNorm2d(512, eps=0.0)\n",
              "          (relu): ReLU(inplace=True)\n",
              "        )\n",
              "        (2): Bottleneck(\n",
              "          (conv1): Conv2d(512, 128, kernel_size=(1, 1), stride=(1, 1), bias=False)\n",
              "          (bn1): FrozenBatchNorm2d(128, eps=0.0)\n",
              "          (conv2): Conv2d(128, 128, kernel_size=(3, 3), stride=(1, 1), padding=(1, 1), bias=False)\n",
              "          (bn2): FrozenBatchNorm2d(128, eps=0.0)\n",
              "          (conv3): Conv2d(128, 512, kernel_size=(1, 1), stride=(1, 1), bias=False)\n",
              "          (bn3): FrozenBatchNorm2d(512, eps=0.0)\n",
              "          (relu): ReLU(inplace=True)\n",
              "        )\n",
              "        (3): Bottleneck(\n",
              "          (conv1): Conv2d(512, 128, kernel_size=(1, 1), stride=(1, 1), bias=False)\n",
              "          (bn1): FrozenBatchNorm2d(128, eps=0.0)\n",
              "          (conv2): Conv2d(128, 128, kernel_size=(3, 3), stride=(1, 1), padding=(1, 1), bias=False)\n",
              "          (bn2): FrozenBatchNorm2d(128, eps=0.0)\n",
              "          (conv3): Conv2d(128, 512, kernel_size=(1, 1), stride=(1, 1), bias=False)\n",
              "          (bn3): FrozenBatchNorm2d(512, eps=0.0)\n",
              "          (relu): ReLU(inplace=True)\n",
              "        )\n",
              "      )\n",
              "      (layer3): Sequential(\n",
              "        (0): Bottleneck(\n",
              "          (conv1): Conv2d(512, 256, kernel_size=(1, 1), stride=(1, 1), bias=False)\n",
              "          (bn1): FrozenBatchNorm2d(256, eps=0.0)\n",
              "          (conv2): Conv2d(256, 256, kernel_size=(3, 3), stride=(2, 2), padding=(1, 1), bias=False)\n",
              "          (bn2): FrozenBatchNorm2d(256, eps=0.0)\n",
              "          (conv3): Conv2d(256, 1024, kernel_size=(1, 1), stride=(1, 1), bias=False)\n",
              "          (bn3): FrozenBatchNorm2d(1024, eps=0.0)\n",
              "          (relu): ReLU(inplace=True)\n",
              "          (downsample): Sequential(\n",
              "            (0): Conv2d(512, 1024, kernel_size=(1, 1), stride=(2, 2), bias=False)\n",
              "            (1): FrozenBatchNorm2d(1024, eps=0.0)\n",
              "          )\n",
              "        )\n",
              "        (1): Bottleneck(\n",
              "          (conv1): Conv2d(1024, 256, kernel_size=(1, 1), stride=(1, 1), bias=False)\n",
              "          (bn1): FrozenBatchNorm2d(256, eps=0.0)\n",
              "          (conv2): Conv2d(256, 256, kernel_size=(3, 3), stride=(1, 1), padding=(1, 1), bias=False)\n",
              "          (bn2): FrozenBatchNorm2d(256, eps=0.0)\n",
              "          (conv3): Conv2d(256, 1024, kernel_size=(1, 1), stride=(1, 1), bias=False)\n",
              "          (bn3): FrozenBatchNorm2d(1024, eps=0.0)\n",
              "          (relu): ReLU(inplace=True)\n",
              "        )\n",
              "        (2): Bottleneck(\n",
              "          (conv1): Conv2d(1024, 256, kernel_size=(1, 1), stride=(1, 1), bias=False)\n",
              "          (bn1): FrozenBatchNorm2d(256, eps=0.0)\n",
              "          (conv2): Conv2d(256, 256, kernel_size=(3, 3), stride=(1, 1), padding=(1, 1), bias=False)\n",
              "          (bn2): FrozenBatchNorm2d(256, eps=0.0)\n",
              "          (conv3): Conv2d(256, 1024, kernel_size=(1, 1), stride=(1, 1), bias=False)\n",
              "          (bn3): FrozenBatchNorm2d(1024, eps=0.0)\n",
              "          (relu): ReLU(inplace=True)\n",
              "        )\n",
              "        (3): Bottleneck(\n",
              "          (conv1): Conv2d(1024, 256, kernel_size=(1, 1), stride=(1, 1), bias=False)\n",
              "          (bn1): FrozenBatchNorm2d(256, eps=0.0)\n",
              "          (conv2): Conv2d(256, 256, kernel_size=(3, 3), stride=(1, 1), padding=(1, 1), bias=False)\n",
              "          (bn2): FrozenBatchNorm2d(256, eps=0.0)\n",
              "          (conv3): Conv2d(256, 1024, kernel_size=(1, 1), stride=(1, 1), bias=False)\n",
              "          (bn3): FrozenBatchNorm2d(1024, eps=0.0)\n",
              "          (relu): ReLU(inplace=True)\n",
              "        )\n",
              "        (4): Bottleneck(\n",
              "          (conv1): Conv2d(1024, 256, kernel_size=(1, 1), stride=(1, 1), bias=False)\n",
              "          (bn1): FrozenBatchNorm2d(256, eps=0.0)\n",
              "          (conv2): Conv2d(256, 256, kernel_size=(3, 3), stride=(1, 1), padding=(1, 1), bias=False)\n",
              "          (bn2): FrozenBatchNorm2d(256, eps=0.0)\n",
              "          (conv3): Conv2d(256, 1024, kernel_size=(1, 1), stride=(1, 1), bias=False)\n",
              "          (bn3): FrozenBatchNorm2d(1024, eps=0.0)\n",
              "          (relu): ReLU(inplace=True)\n",
              "        )\n",
              "        (5): Bottleneck(\n",
              "          (conv1): Conv2d(1024, 256, kernel_size=(1, 1), stride=(1, 1), bias=False)\n",
              "          (bn1): FrozenBatchNorm2d(256, eps=0.0)\n",
              "          (conv2): Conv2d(256, 256, kernel_size=(3, 3), stride=(1, 1), padding=(1, 1), bias=False)\n",
              "          (bn2): FrozenBatchNorm2d(256, eps=0.0)\n",
              "          (conv3): Conv2d(256, 1024, kernel_size=(1, 1), stride=(1, 1), bias=False)\n",
              "          (bn3): FrozenBatchNorm2d(1024, eps=0.0)\n",
              "          (relu): ReLU(inplace=True)\n",
              "        )\n",
              "      )\n",
              "      (layer4): Sequential(\n",
              "        (0): Bottleneck(\n",
              "          (conv1): Conv2d(1024, 512, kernel_size=(1, 1), stride=(1, 1), bias=False)\n",
              "          (bn1): FrozenBatchNorm2d(512, eps=0.0)\n",
              "          (conv2): Conv2d(512, 512, kernel_size=(3, 3), stride=(2, 2), padding=(1, 1), bias=False)\n",
              "          (bn2): FrozenBatchNorm2d(512, eps=0.0)\n",
              "          (conv3): Conv2d(512, 2048, kernel_size=(1, 1), stride=(1, 1), bias=False)\n",
              "          (bn3): FrozenBatchNorm2d(2048, eps=0.0)\n",
              "          (relu): ReLU(inplace=True)\n",
              "          (downsample): Sequential(\n",
              "            (0): Conv2d(1024, 2048, kernel_size=(1, 1), stride=(2, 2), bias=False)\n",
              "            (1): FrozenBatchNorm2d(2048, eps=0.0)\n",
              "          )\n",
              "        )\n",
              "        (1): Bottleneck(\n",
              "          (conv1): Conv2d(2048, 512, kernel_size=(1, 1), stride=(1, 1), bias=False)\n",
              "          (bn1): FrozenBatchNorm2d(512, eps=0.0)\n",
              "          (conv2): Conv2d(512, 512, kernel_size=(3, 3), stride=(1, 1), padding=(1, 1), bias=False)\n",
              "          (bn2): FrozenBatchNorm2d(512, eps=0.0)\n",
              "          (conv3): Conv2d(512, 2048, kernel_size=(1, 1), stride=(1, 1), bias=False)\n",
              "          (bn3): FrozenBatchNorm2d(2048, eps=0.0)\n",
              "          (relu): ReLU(inplace=True)\n",
              "        )\n",
              "        (2): Bottleneck(\n",
              "          (conv1): Conv2d(2048, 512, kernel_size=(1, 1), stride=(1, 1), bias=False)\n",
              "          (bn1): FrozenBatchNorm2d(512, eps=0.0)\n",
              "          (conv2): Conv2d(512, 512, kernel_size=(3, 3), stride=(1, 1), padding=(1, 1), bias=False)\n",
              "          (bn2): FrozenBatchNorm2d(512, eps=0.0)\n",
              "          (conv3): Conv2d(512, 2048, kernel_size=(1, 1), stride=(1, 1), bias=False)\n",
              "          (bn3): FrozenBatchNorm2d(2048, eps=0.0)\n",
              "          (relu): ReLU(inplace=True)\n",
              "        )\n",
              "      )\n",
              "    )\n",
              "    (fpn): FeaturePyramidNetwork(\n",
              "      (inner_blocks): ModuleList(\n",
              "        (0): Conv2dNormActivation(\n",
              "          (0): Conv2d(256, 256, kernel_size=(1, 1), stride=(1, 1))\n",
              "        )\n",
              "        (1): Conv2dNormActivation(\n",
              "          (0): Conv2d(512, 256, kernel_size=(1, 1), stride=(1, 1))\n",
              "        )\n",
              "        (2): Conv2dNormActivation(\n",
              "          (0): Conv2d(1024, 256, kernel_size=(1, 1), stride=(1, 1))\n",
              "        )\n",
              "        (3): Conv2dNormActivation(\n",
              "          (0): Conv2d(2048, 256, kernel_size=(1, 1), stride=(1, 1))\n",
              "        )\n",
              "      )\n",
              "      (layer_blocks): ModuleList(\n",
              "        (0): Conv2dNormActivation(\n",
              "          (0): Conv2d(256, 256, kernel_size=(3, 3), stride=(1, 1), padding=(1, 1))\n",
              "        )\n",
              "        (1): Conv2dNormActivation(\n",
              "          (0): Conv2d(256, 256, kernel_size=(3, 3), stride=(1, 1), padding=(1, 1))\n",
              "        )\n",
              "        (2): Conv2dNormActivation(\n",
              "          (0): Conv2d(256, 256, kernel_size=(3, 3), stride=(1, 1), padding=(1, 1))\n",
              "        )\n",
              "        (3): Conv2dNormActivation(\n",
              "          (0): Conv2d(256, 256, kernel_size=(3, 3), stride=(1, 1), padding=(1, 1))\n",
              "        )\n",
              "      )\n",
              "      (extra_blocks): LastLevelMaxPool()\n",
              "    )\n",
              "  )\n",
              "  (rpn): RegionProposalNetwork(\n",
              "    (anchor_generator): AnchorGenerator()\n",
              "    (head): RPNHead(\n",
              "      (conv): Sequential(\n",
              "        (0): Conv2dNormActivation(\n",
              "          (0): Conv2d(256, 256, kernel_size=(3, 3), stride=(1, 1), padding=(1, 1))\n",
              "          (1): ReLU(inplace=True)\n",
              "        )\n",
              "      )\n",
              "      (cls_logits): Conv2d(256, 3, kernel_size=(1, 1), stride=(1, 1))\n",
              "      (bbox_pred): Conv2d(256, 12, kernel_size=(1, 1), stride=(1, 1))\n",
              "    )\n",
              "  )\n",
              "  (roi_heads): RoIHeads(\n",
              "    (box_roi_pool): MultiScaleRoIAlign(featmap_names=['0', '1', '2', '3'], output_size=(7, 7), sampling_ratio=2)\n",
              "    (box_head): TwoMLPHead(\n",
              "      (fc6): Linear(in_features=12544, out_features=1024, bias=True)\n",
              "      (fc7): Linear(in_features=1024, out_features=1024, bias=True)\n",
              "    )\n",
              "    (box_predictor): FastRCNNPredictor(\n",
              "      (cls_score): Linear(in_features=1024, out_features=91, bias=True)\n",
              "      (bbox_pred): Linear(in_features=1024, out_features=364, bias=True)\n",
              "    )\n",
              "  )\n",
              ")"
            ]
          },
          "metadata": {},
          "execution_count": 74
        }
      ]
    },
    {
      "cell_type": "code",
      "source": [
        "!wget 'http://images.cocodataset.org/val2017/000000037777.jpg'"
      ],
      "metadata": {
        "colab": {
          "base_uri": "https://localhost:8080/"
        },
        "id": "XM48b4kUhADv",
        "outputId": "490f0e75-baea-4296-8832-6ac2f45bf8d3"
      },
      "execution_count": 75,
      "outputs": [
        {
          "output_type": "stream",
          "name": "stdout",
          "text": [
            "--2023-02-08 05:43:47--  http://images.cocodataset.org/val2017/000000037777.jpg\n",
            "Resolving images.cocodataset.org (images.cocodataset.org)... 52.216.101.123, 52.217.100.148, 52.217.173.241, ...\n",
            "Connecting to images.cocodataset.org (images.cocodataset.org)|52.216.101.123|:80... connected.\n",
            "HTTP request sent, awaiting response... 200 OK\n",
            "Length: 40833 (40K) [image/jpeg]\n",
            "Saving to: ‘000000037777.jpg.2’\n",
            "\n",
            "000000037777.jpg.2  100%[===================>]  39.88K  --.-KB/s    in 0.1s    \n",
            "\n",
            "2023-02-08 05:43:47 (407 KB/s) - ‘000000037777.jpg.2’ saved [40833/40833]\n",
            "\n"
          ]
        }
      ]
    },
    {
      "cell_type": "code",
      "source": [
        "# igg = Image.open('/content/000000037777.jpg')"
      ],
      "metadata": {
        "id": "LrUWbYing5rx"
      },
      "execution_count": 19,
      "outputs": []
    },
    {
      "cell_type": "code",
      "source": [
        "igg = Image.open('/content/000000037777.jpg')"
      ],
      "metadata": {
        "id": "pxm_apCtt3Vw"
      },
      "execution_count": 76,
      "outputs": []
    },
    {
      "cell_type": "code",
      "source": [
        "transform = T.ToTensor()\n",
        "img = transform(igg)"
      ],
      "metadata": {
        "id": "OPADrbU8cIfi"
      },
      "execution_count": 77,
      "outputs": []
    },
    {
      "cell_type": "code",
      "source": [
        "with torch.no_grad():\n",
        "  pred = model([img])"
      ],
      "metadata": {
        "id": "38Wn_NaIcSGG"
      },
      "execution_count": 78,
      "outputs": []
    },
    {
      "cell_type": "code",
      "source": [
        "pred"
      ],
      "metadata": {
        "colab": {
          "base_uri": "https://localhost:8080/"
        },
        "id": "4W_XeymhcdIb",
        "outputId": "3701f833-8c54-4f7e-edb8-0ff0af5d9525"
      },
      "execution_count": 79,
      "outputs": [
        {
          "output_type": "execute_result",
          "data": {
            "text/plain": [
              "[{'boxes': tensor([[291.1581,  75.6388, 351.1081, 230.0000],\n",
              "          [137.2317, 126.4134, 196.8073, 192.6794],\n",
              "          [234.0298, 187.5376, 257.2587, 206.0069],\n",
              "          [ 69.8431, 180.6237, 294.8976, 227.8892],\n",
              "          [215.5546, 186.7090, 232.4908, 201.2714],\n",
              "          [229.2052, 178.4287, 242.4043, 189.1334],\n",
              "          [102.2816, 119.1606, 109.7579, 136.2550],\n",
              "          [204.3586, 187.4953, 220.2825, 207.8441],\n",
              "          [217.1612, 200.5048, 231.4939, 214.6144],\n",
              "          [231.3621, 200.6434, 247.9374, 217.5594],\n",
              "          [202.8858, 180.7723, 259.0847, 215.1571],\n",
              "          [265.9250, 134.4927, 293.7535, 137.7777],\n",
              "          [ 98.9475, 120.0403, 110.6324, 175.7940],\n",
              "          [232.8049, 188.9269, 247.0089, 201.1433],\n",
              "          [256.9217, 132.6738, 295.4498, 138.2876],\n",
              "          [175.0697, 111.2454, 185.6406, 137.4315],\n",
              "          [195.5084, 120.2847, 202.1774, 134.7075],\n",
              "          [263.7627, 129.0698, 299.0514, 137.4496],\n",
              "          [196.6427, 181.2184, 263.6159, 219.1484],\n",
              "          [218.0665, 199.1213, 245.9161, 217.2953],\n",
              "          [233.0300, 127.3792, 299.0363, 138.4174],\n",
              "          [278.4828, 128.8086, 294.7485, 136.4212],\n",
              "          [205.8722, 182.6974, 233.0919, 212.1260],\n",
              "          [126.1643,  97.3062, 195.8990, 189.6962],\n",
              "          [106.2424, 126.9152, 109.5445, 136.0776],\n",
              "          [230.6236, 188.1828, 241.4398, 196.1133],\n",
              "          [272.5569, 132.9545, 296.6635, 137.1919],\n",
              "          [200.5755, 175.9701, 294.4182, 227.3396],\n",
              "          [186.4529, 112.7755, 192.1155, 134.6760],\n",
              "          [335.9322,  53.8960, 351.7104,  78.4074],\n",
              "          [231.4680, 188.5988, 243.0742, 197.9117],\n",
              "          [200.5100, 132.4207, 229.1458, 136.9851],\n",
              "          [209.3163, 122.8363, 216.1358, 133.8970],\n",
              "          [264.6384, 132.5236, 292.6794, 136.2016],\n",
              "          [ 99.3683, 133.3432, 110.3275, 177.4739],\n",
              "          [ 20.7326, 215.3077,  88.4849, 228.8656],\n",
              "          [275.7276, 135.4346, 298.1449, 138.8069],\n",
              "          [237.5812, 188.8074, 252.0856, 203.3202],\n",
              "          [218.9266, 181.6331, 258.0513, 209.2755],\n",
              "          [244.4128, 187.3960, 258.0163, 203.0550],\n",
              "          [232.1143, 193.6096, 251.7225, 213.7737],\n",
              "          [ 21.7592, 215.4168,  89.4182, 229.1419],\n",
              "          [255.3631, 133.5119, 289.3530, 136.7727],\n",
              "          [199.9593, 131.6636, 230.5732, 135.0924],\n",
              "          [119.1618, 189.6880, 166.6820, 212.2045],\n",
              "          [277.2303, 110.9302, 290.0029, 128.3995],\n",
              "          [ 39.6824, 176.1562, 298.3194, 229.5558],\n",
              "          [208.1848, 185.9564, 238.7543, 203.4801],\n",
              "          [230.9263, 188.0007, 256.5596, 205.5954],\n",
              "          [104.1538, 124.8744, 109.6214, 135.9173],\n",
              "          [230.6747, 183.0977, 251.6566, 202.6560],\n",
              "          [ 23.8905, 215.3354,  86.2303, 228.4801],\n",
              "          [290.2649, 118.2656, 295.3021, 128.3136],\n",
              "          [195.1819, 122.5382, 202.3078, 134.6684],\n",
              "          [ 90.4745, 118.6427, 110.7897, 163.2064],\n",
              "          [223.7251, 187.9593, 233.2467, 199.0445],\n",
              "          [225.6360, 129.3923, 269.6060, 136.9174],\n",
              "          [214.8967, 120.7189, 230.2300, 132.1626],\n",
              "          [230.6191, 188.2645, 244.3673, 201.1225],\n",
              "          [193.4735, 126.3101, 230.7836, 136.4483],\n",
              "          [ 24.1276, 215.5962,  89.4060, 228.9127],\n",
              "          [105.2059, 122.6094, 110.0976, 135.9599]]),\n",
              "  'labels': tensor([82, 79, 52, 67, 55, 55, 64, 55, 55, 55, 55, 81, 64, 52, 81, 44, 44, 81,\n",
              "          51, 55, 81, 81, 55, 82, 86, 55, 81, 67, 44, 84, 52, 81, 47, 81, 86, 62,\n",
              "          81, 52, 52, 52, 55,  1, 81, 81, 62, 44, 63, 55, 55, 86, 52, 51, 44, 47,\n",
              "          64, 55, 81, 80, 55, 81, 74, 64]),\n",
              "  'scores': tensor([0.9948, 0.9876, 0.9607, 0.9142, 0.9010, 0.8968, 0.8795, 0.8744, 0.8511,\n",
              "          0.8308, 0.8022, 0.7680, 0.7506, 0.6588, 0.5832, 0.5827, 0.5032, 0.4856,\n",
              "          0.4782, 0.4444, 0.4423, 0.4268, 0.4094, 0.3944, 0.3695, 0.3230, 0.3197,\n",
              "          0.3106, 0.3040, 0.3019, 0.2771, 0.2652, 0.2372, 0.2323, 0.2232, 0.2125,\n",
              "          0.1745, 0.1729, 0.1718, 0.1622, 0.1545, 0.1421, 0.1414, 0.1281, 0.1193,\n",
              "          0.1091, 0.0857, 0.0817, 0.0778, 0.0726, 0.0725, 0.0705, 0.0678, 0.0617,\n",
              "          0.0595, 0.0589, 0.0539, 0.0535, 0.0522, 0.0520, 0.0510, 0.0507])}]"
            ]
          },
          "metadata": {},
          "execution_count": 79
        }
      ]
    },
    {
      "cell_type": "code",
      "source": [
        "type(pred[0])"
      ],
      "metadata": {
        "colab": {
          "base_uri": "https://localhost:8080/"
        },
        "id": "LbNklEtGceMT",
        "outputId": "3fca49c2-d703-4f75-d6be-28b9def51f98"
      },
      "execution_count": 80,
      "outputs": [
        {
          "output_type": "execute_result",
          "data": {
            "text/plain": [
              "dict"
            ]
          },
          "metadata": {},
          "execution_count": 80
        }
      ]
    },
    {
      "cell_type": "code",
      "source": [
        "pred[0].keys()"
      ],
      "metadata": {
        "colab": {
          "base_uri": "https://localhost:8080/"
        },
        "id": "7nrje-gnckw4",
        "outputId": "86fc3650-fd6d-4c89-9a76-0295313f21c2"
      },
      "execution_count": 81,
      "outputs": [
        {
          "output_type": "execute_result",
          "data": {
            "text/plain": [
              "dict_keys(['boxes', 'labels', 'scores'])"
            ]
          },
          "metadata": {},
          "execution_count": 81
        }
      ]
    },
    {
      "cell_type": "code",
      "source": [
        "boxes, scores, labels = pred[0]['boxes'], pred[0]['scores'], pred[0]['labels']"
      ],
      "metadata": {
        "id": "agbnx0rkcoNE"
      },
      "execution_count": 82,
      "outputs": []
    },
    {
      "cell_type": "code",
      "source": [
        "boxes"
      ],
      "metadata": {
        "colab": {
          "base_uri": "https://localhost:8080/"
        },
        "id": "R7QYnb4EiOL3",
        "outputId": "247b8f50-694d-4c39-dfa6-9970ec76ed08"
      },
      "execution_count": 83,
      "outputs": [
        {
          "output_type": "execute_result",
          "data": {
            "text/plain": [
              "tensor([[291.1581,  75.6388, 351.1081, 230.0000],\n",
              "        [137.2317, 126.4134, 196.8073, 192.6794],\n",
              "        [234.0298, 187.5376, 257.2587, 206.0069],\n",
              "        [ 69.8431, 180.6237, 294.8976, 227.8892],\n",
              "        [215.5546, 186.7090, 232.4908, 201.2714],\n",
              "        [229.2052, 178.4287, 242.4043, 189.1334],\n",
              "        [102.2816, 119.1606, 109.7579, 136.2550],\n",
              "        [204.3586, 187.4953, 220.2825, 207.8441],\n",
              "        [217.1612, 200.5048, 231.4939, 214.6144],\n",
              "        [231.3621, 200.6434, 247.9374, 217.5594],\n",
              "        [202.8858, 180.7723, 259.0847, 215.1571],\n",
              "        [265.9250, 134.4927, 293.7535, 137.7777],\n",
              "        [ 98.9475, 120.0403, 110.6324, 175.7940],\n",
              "        [232.8049, 188.9269, 247.0089, 201.1433],\n",
              "        [256.9217, 132.6738, 295.4498, 138.2876],\n",
              "        [175.0697, 111.2454, 185.6406, 137.4315],\n",
              "        [195.5084, 120.2847, 202.1774, 134.7075],\n",
              "        [263.7627, 129.0698, 299.0514, 137.4496],\n",
              "        [196.6427, 181.2184, 263.6159, 219.1484],\n",
              "        [218.0665, 199.1213, 245.9161, 217.2953],\n",
              "        [233.0300, 127.3792, 299.0363, 138.4174],\n",
              "        [278.4828, 128.8086, 294.7485, 136.4212],\n",
              "        [205.8722, 182.6974, 233.0919, 212.1260],\n",
              "        [126.1643,  97.3062, 195.8990, 189.6962],\n",
              "        [106.2424, 126.9152, 109.5445, 136.0776],\n",
              "        [230.6236, 188.1828, 241.4398, 196.1133],\n",
              "        [272.5569, 132.9545, 296.6635, 137.1919],\n",
              "        [200.5755, 175.9701, 294.4182, 227.3396],\n",
              "        [186.4529, 112.7755, 192.1155, 134.6760],\n",
              "        [335.9322,  53.8960, 351.7104,  78.4074],\n",
              "        [231.4680, 188.5988, 243.0742, 197.9117],\n",
              "        [200.5100, 132.4207, 229.1458, 136.9851],\n",
              "        [209.3163, 122.8363, 216.1358, 133.8970],\n",
              "        [264.6384, 132.5236, 292.6794, 136.2016],\n",
              "        [ 99.3683, 133.3432, 110.3275, 177.4739],\n",
              "        [ 20.7326, 215.3077,  88.4849, 228.8656],\n",
              "        [275.7276, 135.4346, 298.1449, 138.8069],\n",
              "        [237.5812, 188.8074, 252.0856, 203.3202],\n",
              "        [218.9266, 181.6331, 258.0513, 209.2755],\n",
              "        [244.4128, 187.3960, 258.0163, 203.0550],\n",
              "        [232.1143, 193.6096, 251.7225, 213.7737],\n",
              "        [ 21.7592, 215.4168,  89.4182, 229.1419],\n",
              "        [255.3631, 133.5119, 289.3530, 136.7727],\n",
              "        [199.9593, 131.6636, 230.5732, 135.0924],\n",
              "        [119.1618, 189.6880, 166.6820, 212.2045],\n",
              "        [277.2303, 110.9302, 290.0029, 128.3995],\n",
              "        [ 39.6824, 176.1562, 298.3194, 229.5558],\n",
              "        [208.1848, 185.9564, 238.7543, 203.4801],\n",
              "        [230.9263, 188.0007, 256.5596, 205.5954],\n",
              "        [104.1538, 124.8744, 109.6214, 135.9173],\n",
              "        [230.6747, 183.0977, 251.6566, 202.6560],\n",
              "        [ 23.8905, 215.3354,  86.2303, 228.4801],\n",
              "        [290.2649, 118.2656, 295.3021, 128.3136],\n",
              "        [195.1819, 122.5382, 202.3078, 134.6684],\n",
              "        [ 90.4745, 118.6427, 110.7897, 163.2064],\n",
              "        [223.7251, 187.9593, 233.2467, 199.0445],\n",
              "        [225.6360, 129.3923, 269.6060, 136.9174],\n",
              "        [214.8967, 120.7189, 230.2300, 132.1626],\n",
              "        [230.6191, 188.2645, 244.3673, 201.1225],\n",
              "        [193.4735, 126.3101, 230.7836, 136.4483],\n",
              "        [ 24.1276, 215.5962,  89.4060, 228.9127],\n",
              "        [105.2059, 122.6094, 110.0976, 135.9599]])"
            ]
          },
          "metadata": {},
          "execution_count": 83
        }
      ]
    },
    {
      "cell_type": "code",
      "source": [
        "scores"
      ],
      "metadata": {
        "colab": {
          "base_uri": "https://localhost:8080/"
        },
        "id": "sViDjq1QiPpQ",
        "outputId": "05ab3a9e-74b4-41e0-e8f2-dadddf2392b9"
      },
      "execution_count": 92,
      "outputs": [
        {
          "output_type": "execute_result",
          "data": {
            "text/plain": [
              "tensor([0.9948, 0.9876, 0.9607, 0.9142, 0.9010, 0.8968, 0.8795, 0.8744, 0.8511,\n",
              "        0.8308, 0.8022, 0.7680, 0.7506, 0.6588, 0.5832, 0.5827, 0.5032, 0.4856,\n",
              "        0.4782, 0.4444, 0.4423, 0.4268, 0.4094, 0.3944, 0.3695, 0.3230, 0.3197,\n",
              "        0.3106, 0.3040, 0.3019, 0.2771, 0.2652, 0.2372, 0.2323, 0.2232, 0.2125,\n",
              "        0.1745, 0.1729, 0.1718, 0.1622, 0.1545, 0.1421, 0.1414, 0.1281, 0.1193,\n",
              "        0.1091, 0.0857, 0.0817, 0.0778, 0.0726, 0.0725, 0.0705, 0.0678, 0.0617,\n",
              "        0.0595, 0.0589, 0.0539, 0.0535, 0.0522, 0.0520, 0.0510, 0.0507])"
            ]
          },
          "metadata": {},
          "execution_count": 92
        }
      ]
    },
    {
      "cell_type": "code",
      "source": [
        "len(labels)"
      ],
      "metadata": {
        "colab": {
          "base_uri": "https://localhost:8080/"
        },
        "id": "v5lserG3iSHj",
        "outputId": "c942cd84-cfce-4c04-917c-93558174424a"
      },
      "execution_count": 93,
      "outputs": [
        {
          "output_type": "execute_result",
          "data": {
            "text/plain": [
              "62"
            ]
          },
          "metadata": {},
          "execution_count": 93
        }
      ]
    },
    {
      "cell_type": "code",
      "source": [
        "num = torch.argwhere(scores>0.8).shape[0]"
      ],
      "metadata": {
        "id": "OyzUE1luiUdG"
      },
      "execution_count": 113,
      "outputs": []
    },
    {
      "cell_type": "code",
      "source": [
        "num"
      ],
      "metadata": {
        "colab": {
          "base_uri": "https://localhost:8080/"
        },
        "id": "47asQrEcqsnn",
        "outputId": "d381bbb6-7cc8-4bb2-afd6-c4be4156660c"
      },
      "execution_count": 114,
      "outputs": [
        {
          "output_type": "execute_result",
          "data": {
            "text/plain": [
              "11"
            ]
          },
          "metadata": {},
          "execution_count": 114
        }
      ]
    },
    {
      "cell_type": "code",
      "source": [
        "coco_names = [\"person\" , \"bicycle\" , \"car\" , \"motorcycle\" , \"airplane\" , \"bus\" , \"train\" , \"truck\" , \"boat\" , \"traffic light\" , \"fire hydrant\" , \"street sign\" , \"stop sign\" , \"parking meter\" , \"bench\" , \"bird\" , \"cat\" , \"dog\" , \"horse\" , \"sheep\" , \"cow\" , \"elephant\" , \"bear\" , \"zebra\" , \"giraffe\" , \"hat\" , \"backpack\" , \"umbrella\" , \"shoe\" , \"eye glasses\" , \"handbag\" , \"tie\" , \"suitcase\" , \n",
        "\"frisbee\" , \"skis\" , \"snowboard\" , \"sports ball\" , \"kite\" , \"baseball bat\" , \n",
        "\"baseball glove\" , \"skateboard\" , \"surfboard\" , \"tennis racket\" , \"bottle\" , \n",
        "\"plate\" , \"wine glass\" , \"cup\" , \"fork\" , \"knife\" , \"spoon\" , \"bowl\" , \n",
        "\"banana\" , \"apple\" , \"sandwich\" , \"orange\" , \"broccoli\" , \"carrot\" , \"hot dog\" ,\n",
        "\"pizza\" , \"donut\" , \"cake\" , \"chair\" , \"couch\" , \"potted plant\" , \"bed\" ,\n",
        "\"mirror\" , \"dining table\" , \"window\" , \"desk\" , \"toilet\" , \"door\" , \"tv\" ,\n",
        "\"laptop\" , \"mouse\" , \"remote\" , \"keyboard\" , \"cell phone\" , \"microwave\" ,\n",
        "\"oven\" , \"toaster\" , \"sink\" , \"refrigerator\" , \"blender\" , \"book\" ,\n",
        "\"clock\" , \"vase\" , \"scissors\" , \"teddy bear\" , \"hair drier\" , \"toothbrush\" , \"hair brush\"]"
      ],
      "metadata": {
        "id": "QDe5AQzJn2z5"
      },
      "execution_count": 115,
      "outputs": []
    },
    {
      "cell_type": "code",
      "source": [
        "font = cv2.FONT_HERSHEY_SIMPLEX"
      ],
      "metadata": {
        "id": "1cvUv9XUkZ2p"
      },
      "execution_count": 116,
      "outputs": []
    },
    {
      "cell_type": "code",
      "source": [
        "import numpy as np"
      ],
      "metadata": {
        "id": "POAPTgjWsSFm"
      },
      "execution_count": 117,
      "outputs": []
    },
    {
      "cell_type": "code",
      "source": [
        "ig = cv2.imread('/content/000000037777.jpg')\n",
        "for i in range(num):\n",
        "  x1,y1,x2,y2 = boxes[i].numpy().astype('int')\n",
        "  ig = cv2.rectangle(ig,(x1,y1),(x2,y2),(0,0,255),1)\n",
        "  class_name = coco_names[labels.numpy()[i]-1]\n",
        "  ig = cv2.putText(ig,class_name,(x1+3,y1-10),font,0.5,(255,0,0),1,cv2.LINE_AA)"
      ],
      "metadata": {
        "id": "AHNSSyN2jHlT"
      },
      "execution_count": 120,
      "outputs": []
    },
    {
      "cell_type": "code",
      "source": [
        "cv2_imshow(ig)"
      ],
      "metadata": {
        "colab": {
          "base_uri": "https://localhost:8080/",
          "height": 247
        },
        "id": "VE6EjRSolxpw",
        "outputId": "70ee2f02-985a-4621-9386-2a129381e7ac"
      },
      "execution_count": 121,
      "outputs": [
        {
          "output_type": "display_data",
          "data": {
            "text/plain": [
              "<PIL.Image.Image image mode=RGB size=352x230 at 0x7FB989573040>"
            ],
            "image/png": "[encoded data removed]"
          },
          "metadata": {}
        }
      ]
    },
    {
      "cell_type": "code",
      "source": [],
      "metadata": {
        "id": "1YE6vPTVje-8"
      },
      "execution_count": null,
      "outputs": []
    }
  ]
}